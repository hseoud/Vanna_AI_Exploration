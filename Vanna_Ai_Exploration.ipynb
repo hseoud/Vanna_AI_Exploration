{
 "cells": [
  {
   "cell_type": "markdown",
   "id": "acd1f19c-bf58-446a-9b1f-d887d2863006",
   "metadata": {},
   "source": [
    "# Vanna Ai Exploration \n"
   ]
  },
  {
   "cell_type": "markdown",
   "id": "961bc526-3480-4d24-b3c2-e6799d81b978",
   "metadata": {},
   "source": [
    "## Generate dataframe with random data"
   ]
  },
  {
   "cell_type": "code",
   "execution_count": 1,
   "id": "7f8f07d8-dc88-4314-85c8-117177ca6a8d",
   "metadata": {},
   "outputs": [],
   "source": [
    "import pandas as pd\n",
    "import numpy as np\n",
    "from datetime import datetime, timedelta\n",
    "import random\n",
    "import sqlite3\n",
    "import os\n",
    "#pip install vanna\n",
    "# import vanna\n",
    "# from vanna.remote import VannaDefault\n",
    "# Vanna_API_Key = os.getenv('Vanna_API_Key')"
   ]
  },
  {
   "cell_type": "code",
   "execution_count": 3,
   "id": "4a9a8d9f-65f1-47a8-83bb-2a0648214659",
   "metadata": {},
   "outputs": [],
   "source": [
    "#print(f\"The value of 'MY_VARIABLE' is: {Vanna_API_Key}\")"
   ]
  },
  {
   "cell_type": "code",
   "execution_count": 4,
   "id": "38a5bde9-8918-4bb0-ae39-411a2bf95c44",
   "metadata": {},
   "outputs": [
    {
     "data": {
      "text/html": [
       "<div>\n",
       "<style scoped>\n",
       "    .dataframe tbody tr th:only-of-type {\n",
       "        vertical-align: middle;\n",
       "    }\n",
       "\n",
       "    .dataframe tbody tr th {\n",
       "        vertical-align: top;\n",
       "    }\n",
       "\n",
       "    .dataframe thead th {\n",
       "        text-align: right;\n",
       "    }\n",
       "</style>\n",
       "<table border=\"1\" class=\"dataframe\">\n",
       "  <thead>\n",
       "    <tr style=\"text-align: right;\">\n",
       "      <th></th>\n",
       "      <th>patient_id</th>\n",
       "      <th>service_date</th>\n",
       "      <th>icd_10_code</th>\n",
       "      <th>icd_10_description</th>\n",
       "    </tr>\n",
       "  </thead>\n",
       "  <tbody>\n",
       "    <tr>\n",
       "      <th>0</th>\n",
       "      <td>P0001</td>\n",
       "      <td>2025-01-04 15:00:19.823255</td>\n",
       "      <td>I10</td>\n",
       "      <td>Essential (primary) hypertension</td>\n",
       "    </tr>\n",
       "    <tr>\n",
       "      <th>1</th>\n",
       "      <td>P0002</td>\n",
       "      <td>2025-01-09 15:00:19.823255</td>\n",
       "      <td>E11</td>\n",
       "      <td>Type 2 diabetes mellitus</td>\n",
       "    </tr>\n",
       "    <tr>\n",
       "      <th>2</th>\n",
       "      <td>P0003</td>\n",
       "      <td>2025-01-09 15:00:19.823255</td>\n",
       "      <td>M54</td>\n",
       "      <td>Dorsalgia (back pain)</td>\n",
       "    </tr>\n",
       "    <tr>\n",
       "      <th>3</th>\n",
       "      <td>P0004</td>\n",
       "      <td>2025-01-04 15:00:19.823255</td>\n",
       "      <td>E11</td>\n",
       "      <td>Type 2 diabetes mellitus</td>\n",
       "    </tr>\n",
       "    <tr>\n",
       "      <th>4</th>\n",
       "      <td>P0005</td>\n",
       "      <td>2024-12-28 15:00:19.823255</td>\n",
       "      <td>K51</td>\n",
       "      <td>Ulcerative colitis</td>\n",
       "    </tr>\n",
       "  </tbody>\n",
       "</table>\n",
       "</div>"
      ],
      "text/plain": [
       "  patient_id               service_date icd_10_code  \\\n",
       "0      P0001 2025-01-04 15:00:19.823255         I10   \n",
       "1      P0002 2025-01-09 15:00:19.823255         E11   \n",
       "2      P0003 2025-01-09 15:00:19.823255         M54   \n",
       "3      P0004 2025-01-04 15:00:19.823255         E11   \n",
       "4      P0005 2024-12-28 15:00:19.823255         K51   \n",
       "\n",
       "                 icd_10_description  \n",
       "0  Essential (primary) hypertension  \n",
       "1          Type 2 diabetes mellitus  \n",
       "2             Dorsalgia (back pain)  \n",
       "3          Type 2 diabetes mellitus  \n",
       "4                Ulcerative colitis  "
      ]
     },
     "execution_count": 4,
     "metadata": {},
     "output_type": "execute_result"
    }
   ],
   "source": [
    "# Generate random patient IDs\n",
    "patient_ids = [f'P{str(i).zfill(4)}' for i in range(1, 101)]\n",
    "\n",
    "# Generate random service dates within the past two weeks\n",
    "today = datetime.today()\n",
    "service_dates = [today - timedelta(days=random.randint(0, 14)) for _ in range(100)]\n",
    "\n",
    "# Sample list of chronic ICD-10 codes and their descriptions\n",
    "icd_10_codes = [\n",
    "    ('E11', 'Type 2 diabetes mellitus'),\n",
    "    ('I10', 'Essential (primary) hypertension'),\n",
    "    ('J45', 'Asthma'),\n",
    "    ('M54', 'Dorsalgia (back pain)'),\n",
    "    ('K50', 'Crohn’s disease'),\n",
    "    ('K51', 'Ulcerative colitis')\n",
    "]\n",
    "\n",
    "# Generate random ICD-10 codes and descriptions\n",
    "icd_10_data = [random.choice(icd_10_codes) for _ in range(100)]\n",
    "icd_10_codes, icd_10_descriptions = zip(*icd_10_data)\n",
    "\n",
    "# Create the DataFrame\n",
    "df = pd.DataFrame({\n",
    "    'patient_id': patient_ids,\n",
    "    'service_date': service_dates,\n",
    "    'icd_10_code': icd_10_codes,\n",
    "    'icd_10_description': icd_10_descriptions\n",
    "})\n",
    "\n",
    "# Display the first few rows of the DataFrame\n",
    "df.head()"
   ]
  },
  {
   "cell_type": "markdown",
   "id": "9ff4abdc-471b-4f6d-8737-984da652a701",
   "metadata": {},
   "source": [
    "# Load data to sqlite db"
   ]
  },
  {
   "cell_type": "code",
   "execution_count": 13,
   "id": "6950f657-7e11-4dfb-8b45-756eb02bc7d9",
   "metadata": {},
   "outputs": [
    {
     "name": "stdout",
     "output_type": "stream",
     "text": [
      "                 icd_10_description  number_of_patients\n",
      "0                            Asthma                  16\n",
      "1                   Crohn’s disease                  18\n",
      "2             Dorsalgia (back pain)                  18\n",
      "3  Essential (primary) hypertension                  15\n",
      "4          Type 2 diabetes mellitus                  17\n",
      "5                Ulcerative colitis                  16\n"
     ]
    }
   ],
   "source": [
    "\n",
    "# Connect to a SQLite database (or create it if it doesn't exist)\n",
    "conn = sqlite3.connect('chronic_disease_example.db')\n",
    "\n",
    "# Save the DataFrame to the SQLite database\n",
    "df.to_sql('patients', conn, if_exists='replace', index=False)\n",
    "\n",
    "# Function to query the SQLite database using SQL\n",
    "def query_dataframe(sql_query):\n",
    "    return pd.read_sql_query(sql_query, conn)\n",
    "\n",
    "# Example usage\n",
    "sql_query = \"\"\"\n",
    "SELECT icd_10_description, COUNT(*) as number_of_patients \n",
    "FROM patients \n",
    "GROUP BY icd_10_description\n",
    "--select * from patients\n",
    "\"\"\"\n",
    "result = query_dataframe(sql_query)\n",
    "print(result)\n",
    "\n",
    "# Close the connection\n",
    "conn.close()\n"
   ]
  },
  {
   "cell_type": "markdown",
   "id": "20478dc4-3947-464d-b22c-1f7b6dd0f7a1",
   "metadata": {},
   "source": [
    "# Use Vanna Ai"
   ]
  },
  {
   "cell_type": "code",
   "execution_count": null,
   "id": "dbd7fa64-3434-4df1-9500-714dbad9ac87",
   "metadata": {},
   "outputs": [],
   "source": [
    "#https://vanna.ai/docs/sqlite-openai-vanna-vannadb/"
   ]
  },
  {
   "cell_type": "markdown",
   "id": "8fa84b4b-0d80-4209-bb16-3d3f9da15ec0",
   "metadata": {},
   "source": [
    "Convert the DataFrame to a SQL table using SQLite and define a function query_dataframe that takes a plain English query,\n",
    " converts it to SQL using Vanna AI, and returns the results.\n",
    "\n",
    "You can input any query in plain English,\n",
    " and the function will convert it to SQL and return the results.\n",
    " Make sure to replace query with your desired question."
   ]
  },
  {
   "cell_type": "code",
   "execution_count": 19,
   "id": "f8dc9282-50ff-442e-bb2e-bc95d3939dfd",
   "metadata": {},
   "outputs": [],
   "source": [
    "import vanna\n",
    "from vanna.remote import VannaDefault\n",
    "Vanna_API_Key = os.getenv('Vanna_API_Key')\n",
    "vanna_model_name = \"disease\"\n",
    "api_key=Vanna_API_Key\n",
    "vn = VannaDefault(model=vanna_model_name, api_key=api_key)"
   ]
  },
  {
   "cell_type": "code",
   "execution_count": 20,
   "id": "f2a87f6c-6b01-4ff0-a8d3-777cb77a97ab",
   "metadata": {},
   "outputs": [],
   "source": [
    "vn.connect_to_sqlite('chronic_disease_example.db')"
   ]
  },
  {
   "cell_type": "code",
   "execution_count": 21,
   "id": "6c6d094d-e058-444e-b45c-7ea5230a1451",
   "metadata": {},
   "outputs": [
    {
     "name": "stdout",
     "output_type": "stream",
     "text": [
      "Adding ddl: CREATE TABLE \"patients\" (\n",
      "\"patient_id\" TEXT,\n",
      "  \"service_date\" TIMESTAMP,\n",
      "  \"icd_10_code\" TEXT,\n",
      "  \"icd_10_description\" TEXT\n",
      ")\n"
     ]
    }
   ],
   "source": [
    "df_ddl = vn.run_sql(\"SELECT type, sql FROM sqlite_master WHERE sql is not null\")\n",
    "\n",
    "for ddl in df_ddl['sql'].to_list():\n",
    "  vn.train(ddl=ddl)"
   ]
  },
  {
   "cell_type": "code",
   "execution_count": 24,
   "id": "8b6e9128-7bfb-46b0-a02e-1043d868e2f2",
   "metadata": {},
   "outputs": [
    {
     "name": "stdout",
     "output_type": "stream",
     "text": [
      "Adding documentation....\n",
      "Question generated with sql: What are the number of patients for each unique ICD-10 description? \n",
      "Adding SQL...\n"
     ]
    },
    {
     "data": {
      "text/plain": [
       "'4ec6e375916e39979d3b8751d558d426-sql'"
      ]
     },
     "execution_count": 24,
     "metadata": {},
     "output_type": "execute_result"
    }
   ],
   "source": [
    "# # The following are methods for adding training data. Make sure you modify the examples to match your database.\n",
    "\n",
    "# # DDL statements are powerful because they specify table names, colume names, types, and potentially relationships\n",
    "# vn.train(ddl=\"\"\"\n",
    "#     CREATE TABLE IF NOT EXISTS my-table (\n",
    "#         id INT PRIMARY KEY,\n",
    "#         name VARCHAR(100),\n",
    "#         age INT\n",
    "#     )\n",
    "# \"\"\")\n",
    "\n",
    "# # Sometimes you may want to add documentation about your business terminology or definitions.\n",
    "vn.train(documentation=\"Our business provides insight into disease incidence and prevelance.\")\n",
    "\n",
    "# # You can also add SQL queries to your training data. This is useful if you have some queries already laying around. You can just copy and paste those from your editor to begin generating new SQL.\n",
    "vn.train(sql=\"SELECT icd_10_description, COUNT(*) as number_of_patients FROM patients GROUP BY icd_10_description\")"
   ]
  },
  {
   "cell_type": "code",
   "execution_count": 25,
   "id": "5338deca-dfa8-4318-9724-c3a74bac4064",
   "metadata": {},
   "outputs": [
    {
     "data": {
      "text/html": [
       "<div>\n",
       "<style scoped>\n",
       "    .dataframe tbody tr th:only-of-type {\n",
       "        vertical-align: middle;\n",
       "    }\n",
       "\n",
       "    .dataframe tbody tr th {\n",
       "        vertical-align: top;\n",
       "    }\n",
       "\n",
       "    .dataframe thead th {\n",
       "        text-align: right;\n",
       "    }\n",
       "</style>\n",
       "<table border=\"1\" class=\"dataframe\">\n",
       "  <thead>\n",
       "    <tr style=\"text-align: right;\">\n",
       "      <th></th>\n",
       "      <th>id</th>\n",
       "      <th>training_data_type</th>\n",
       "      <th>question</th>\n",
       "      <th>content</th>\n",
       "    </tr>\n",
       "  </thead>\n",
       "  <tbody>\n",
       "    <tr>\n",
       "      <th>0</th>\n",
       "      <td>457448-ddl</td>\n",
       "      <td>ddl</td>\n",
       "      <td>None</td>\n",
       "      <td>CREATE TABLE \"patients\" (\\n\"patient_id\" TEXT,\\...</td>\n",
       "    </tr>\n",
       "    <tr>\n",
       "      <th>1</th>\n",
       "      <td>2819555-doc</td>\n",
       "      <td>documentation</td>\n",
       "      <td>None</td>\n",
       "      <td>Our business provides insight into disease inc...</td>\n",
       "    </tr>\n",
       "    <tr>\n",
       "      <th>2</th>\n",
       "      <td>866744-sql</td>\n",
       "      <td>sql</td>\n",
       "      <td>What are the number of patients for each uniqu...</td>\n",
       "      <td>SELECT icd_10_description, COUNT(*) as number_...</td>\n",
       "    </tr>\n",
       "  </tbody>\n",
       "</table>\n",
       "</div>"
      ],
      "text/plain": [
       "            id training_data_type  \\\n",
       "0   457448-ddl                ddl   \n",
       "1  2819555-doc      documentation   \n",
       "2   866744-sql                sql   \n",
       "\n",
       "                                            question  \\\n",
       "0                                               None   \n",
       "1                                               None   \n",
       "2  What are the number of patients for each uniqu...   \n",
       "\n",
       "                                             content  \n",
       "0  CREATE TABLE \"patients\" (\\n\"patient_id\" TEXT,\\...  \n",
       "1  Our business provides insight into disease inc...  \n",
       "2  SELECT icd_10_description, COUNT(*) as number_...  "
      ]
     },
     "execution_count": 25,
     "metadata": {},
     "output_type": "execute_result"
    }
   ],
   "source": [
    "# At any time you can inspect what training data the package is able to reference\n",
    "training_data = vn.get_training_data()\n",
    "training_data"
   ]
  },
  {
   "cell_type": "code",
   "execution_count": null,
   "id": "83245aa8-a559-4f23-b62d-72194aafcc5f",
   "metadata": {},
   "outputs": [],
   "source": [
    "# # You can remove training data if there's obsolete/incorrect information. \n",
    "# vn.remove_training_data(id='1-ddl')\n",
    "\n",
    "# ```## Asking the AI\n",
    "# Whenever you ask a new question, it will find the 10 most relevant pieces of training data and use it as part of the LLM prompt to generate the SQL.\n",
    "# ```python\n",
    "# vn.ask(question=...)"
   ]
  },
  {
   "cell_type": "code",
   "execution_count": null,
   "id": "fa6fe853-fba0-48d6-85b0-b7f5a17e5404",
   "metadata": {},
   "outputs": [
    {
     "name": "stdout",
     "output_type": "stream",
     "text": [
      "Your app is running at:\n",
      "http://localhost:8084\n",
      " * Serving Flask app 'vanna.flask'\n",
      " * Debug mode: on\n",
      "None\n"
     ]
    }
   ],
   "source": [
    "from vanna.flask import VannaFlaskApp\n",
    "app = VannaFlaskApp(vn)\n",
    "app.run()"
   ]
  },
  {
   "cell_type": "code",
   "execution_count": null,
   "id": "db496fa0-cf96-4968-952c-e9b98eba5fbd",
   "metadata": {},
   "outputs": [],
   "source": []
  }
 ],
 "metadata": {
  "kernelspec": {
   "display_name": "Python 3 (ipykernel)",
   "language": "python",
   "name": "python3"
  },
  "language_info": {
   "codemirror_mode": {
    "name": "ipython",
    "version": 3
   },
   "file_extension": ".py",
   "mimetype": "text/x-python",
   "name": "python",
   "nbconvert_exporter": "python",
   "pygments_lexer": "ipython3",
   "version": "3.12.7"
  }
 },
 "nbformat": 4,
 "nbformat_minor": 5
}
