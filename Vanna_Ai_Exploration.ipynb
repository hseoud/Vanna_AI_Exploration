{
 "cells": [
  {
   "cell_type": "markdown",
   "id": "acd1f19c-bf58-446a-9b1f-d887d2863006",
   "metadata": {},
   "source": [
    "# Vanna Ai Exploration \n"
   ]
  },
  {
   "cell_type": "markdown",
   "id": "961bc526-3480-4d24-b3c2-e6799d81b978",
   "metadata": {},
   "source": [
    "## Generate dataframe with random data"
   ]
  },
  {
   "cell_type": "code",
   "execution_count": 12,
   "id": "7f8f07d8-dc88-4314-85c8-117177ca6a8d",
   "metadata": {},
   "outputs": [],
   "source": [
    "import pandas as pd\n",
    "import numpy as np\n",
    "from datetime import datetime, timedelta\n",
    "import random\n",
    "import sqlite3\n",
    "import os\n",
    "#pip install vanna\n",
    "# import vanna\n",
    "# from vanna.remote import VannaDefault\n",
    "#vanna_api_key = os.getenv('Vanna_API_Key')"
   ]
  },
  {
   "cell_type": "code",
   "execution_count": 13,
   "id": "4a9a8d9f-65f1-47a8-83bb-2a0648214659",
   "metadata": {},
   "outputs": [],
   "source": [
    "#print(f\"The value of 'MY_VARIABLE' is: {Vanna_API_Key}\")"
   ]
  },
  {
   "cell_type": "code",
   "execution_count": 14,
   "id": "38a5bde9-8918-4bb0-ae39-411a2bf95c44",
   "metadata": {},
   "outputs": [
    {
     "data": {
      "text/html": [
       "<div>\n",
       "<style scoped>\n",
       "    .dataframe tbody tr th:only-of-type {\n",
       "        vertical-align: middle;\n",
       "    }\n",
       "\n",
       "    .dataframe tbody tr th {\n",
       "        vertical-align: top;\n",
       "    }\n",
       "\n",
       "    .dataframe thead th {\n",
       "        text-align: right;\n",
       "    }\n",
       "</style>\n",
       "<table border=\"1\" class=\"dataframe\">\n",
       "  <thead>\n",
       "    <tr style=\"text-align: right;\">\n",
       "      <th></th>\n",
       "      <th>patient_id</th>\n",
       "      <th>service_date</th>\n",
       "      <th>icd_10_code</th>\n",
       "      <th>icd_10_description</th>\n",
       "    </tr>\n",
       "  </thead>\n",
       "  <tbody>\n",
       "    <tr>\n",
       "      <th>0</th>\n",
       "      <td>P0001</td>\n",
       "      <td>2025-01-04 21:47:53.075805</td>\n",
       "      <td>I10</td>\n",
       "      <td>Essential (primary) hypertension</td>\n",
       "    </tr>\n",
       "    <tr>\n",
       "      <th>1</th>\n",
       "      <td>P0002</td>\n",
       "      <td>2025-01-05 21:47:53.075805</td>\n",
       "      <td>K50</td>\n",
       "      <td>Crohn’s disease</td>\n",
       "    </tr>\n",
       "    <tr>\n",
       "      <th>2</th>\n",
       "      <td>P0003</td>\n",
       "      <td>2025-01-09 21:47:53.075805</td>\n",
       "      <td>K51</td>\n",
       "      <td>Ulcerative colitis</td>\n",
       "    </tr>\n",
       "    <tr>\n",
       "      <th>3</th>\n",
       "      <td>P0004</td>\n",
       "      <td>2025-01-09 21:47:53.075805</td>\n",
       "      <td>K51</td>\n",
       "      <td>Ulcerative colitis</td>\n",
       "    </tr>\n",
       "    <tr>\n",
       "      <th>4</th>\n",
       "      <td>P0005</td>\n",
       "      <td>2025-01-14 21:47:53.075805</td>\n",
       "      <td>I10</td>\n",
       "      <td>Essential (primary) hypertension</td>\n",
       "    </tr>\n",
       "  </tbody>\n",
       "</table>\n",
       "</div>"
      ],
      "text/plain": [
       "  patient_id               service_date icd_10_code  \\\n",
       "0      P0001 2025-01-04 21:47:53.075805         I10   \n",
       "1      P0002 2025-01-05 21:47:53.075805         K50   \n",
       "2      P0003 2025-01-09 21:47:53.075805         K51   \n",
       "3      P0004 2025-01-09 21:47:53.075805         K51   \n",
       "4      P0005 2025-01-14 21:47:53.075805         I10   \n",
       "\n",
       "                 icd_10_description  \n",
       "0  Essential (primary) hypertension  \n",
       "1                   Crohn’s disease  \n",
       "2                Ulcerative colitis  \n",
       "3                Ulcerative colitis  \n",
       "4  Essential (primary) hypertension  "
      ]
     },
     "execution_count": 14,
     "metadata": {},
     "output_type": "execute_result"
    }
   ],
   "source": [
    "# Generate random patient IDs\n",
    "patient_ids = [f'P{str(i).zfill(4)}' for i in range(1, 101)]\n",
    "\n",
    "# Generate random service dates within the past two weeks\n",
    "today = datetime.today()\n",
    "service_dates = [today - timedelta(days=random.randint(0, 14)) for _ in range(100)]\n",
    "\n",
    "# Sample list of chronic ICD-10 codes and their descriptions\n",
    "icd_10_codes = [\n",
    "    ('E11', 'Type 2 diabetes mellitus'),\n",
    "    ('I10', 'Essential (primary) hypertension'),\n",
    "    ('J45', 'Asthma'),\n",
    "    ('M54', 'Dorsalgia (back pain)'),\n",
    "    ('K50', 'Crohn’s disease'),\n",
    "    ('K51', 'Ulcerative colitis')\n",
    "]\n",
    "\n",
    "# Generate random ICD-10 codes and descriptions\n",
    "icd_10_data = [random.choice(icd_10_codes) for _ in range(100)]\n",
    "icd_10_codes, icd_10_descriptions = zip(*icd_10_data)\n",
    "\n",
    "# Create the DataFrame\n",
    "df = pd.DataFrame({\n",
    "    'patient_id': patient_ids,\n",
    "    'service_date': service_dates,\n",
    "    'icd_10_code': icd_10_codes,\n",
    "    'icd_10_description': icd_10_descriptions\n",
    "})\n",
    "\n",
    "# Display the first few rows of the DataFrame\n",
    "df.head()"
   ]
  },
  {
   "cell_type": "markdown",
   "id": "9ff4abdc-471b-4f6d-8737-984da652a701",
   "metadata": {},
   "source": [
    "# Load data to sqlite db"
   ]
  },
  {
   "cell_type": "code",
   "execution_count": 15,
   "id": "6950f657-7e11-4dfb-8b45-756eb02bc7d9",
   "metadata": {},
   "outputs": [
    {
     "name": "stdout",
     "output_type": "stream",
     "text": [
      "                 icd_10_description  number_of_patients\n",
      "0                            Asthma                  11\n",
      "1                   Crohn’s disease                  14\n",
      "2             Dorsalgia (back pain)                  19\n",
      "3  Essential (primary) hypertension                  20\n",
      "4          Type 2 diabetes mellitus                  19\n",
      "5                Ulcerative colitis                  17\n"
     ]
    }
   ],
   "source": [
    "\n",
    "# Connect to a SQLite database (or create it if it doesn't exist)\n",
    "conn = sqlite3.connect('chronic_disease_example.db')\n",
    "\n",
    "# Save the DataFrame to the SQLite database\n",
    "df.to_sql('patients', conn, if_exists='replace', index=False)\n",
    "\n",
    "# Function to query the SQLite database using SQL\n",
    "def query_dataframe(sql_query):\n",
    "    return pd.read_sql_query(sql_query, conn)\n",
    "\n",
    "# Example usage\n",
    "sql_query = \"\"\"\n",
    "SELECT icd_10_description, COUNT(*) as number_of_patients \n",
    "FROM patients \n",
    "GROUP BY icd_10_description\n",
    "--select * from patients\n",
    "\"\"\"\n",
    "result = query_dataframe(sql_query)\n",
    "print(result)\n",
    "\n",
    "# Close the connection\n",
    "conn.close()\n"
   ]
  },
  {
   "cell_type": "markdown",
   "id": "20478dc4-3947-464d-b22c-1f7b6dd0f7a1",
   "metadata": {},
   "source": [
    "# Use Vanna Ai (sqlite)"
   ]
  },
  {
   "cell_type": "code",
   "execution_count": 16,
   "id": "dbd7fa64-3434-4df1-9500-714dbad9ac87",
   "metadata": {},
   "outputs": [],
   "source": [
    "#https://vanna.ai/docs/sqlite-openai-vanna-vannadb/"
   ]
  },
  {
   "cell_type": "markdown",
   "id": "8fa84b4b-0d80-4209-bb16-3d3f9da15ec0",
   "metadata": {},
   "source": [
    "Convert the DataFrame to a SQL table using SQLite and define a function query_dataframe that takes a plain English query,\n",
    " converts it to SQL using Vanna AI, and returns the results.\n",
    "\n",
    "You can input any query in plain English,\n",
    " and the function will convert it to SQL and return the results.\n",
    " Make sure to replace query with your desired question."
   ]
  },
  {
   "cell_type": "code",
   "execution_count": 19,
   "id": "f8dc9282-50ff-442e-bb2e-bc95d3939dfd",
   "metadata": {},
   "outputs": [],
   "source": [
    "import vanna\n",
    "from vanna.remote import VannaDefault\n",
    "vanna_api_key = os.getenv('Vanna_API_Key')\n",
    "vanna_model_name = \"disease\"\n",
    "vn = VannaDefault(model=vanna_model_name, api_key=vanna_api_key)"
   ]
  },
  {
   "cell_type": "code",
   "execution_count": 20,
   "id": "f2a87f6c-6b01-4ff0-a8d3-777cb77a97ab",
   "metadata": {},
   "outputs": [],
   "source": [
    "vn.connect_to_sqlite('chronic_disease_example.db')"
   ]
  },
  {
   "cell_type": "code",
   "execution_count": 21,
   "id": "6c6d094d-e058-444e-b45c-7ea5230a1451",
   "metadata": {},
   "outputs": [
    {
     "name": "stdout",
     "output_type": "stream",
     "text": [
      "Adding ddl: CREATE TABLE \"patients\" (\n",
      "\"patient_id\" TEXT,\n",
      "  \"service_date\" TIMESTAMP,\n",
      "  \"icd_10_code\" TEXT,\n",
      "  \"icd_10_description\" TEXT\n",
      ")\n"
     ]
    }
   ],
   "source": [
    "df_ddl = vn.run_sql(\"SELECT type, sql FROM sqlite_master WHERE sql is not null\")\n",
    "\n",
    "for ddl in df_ddl['sql'].to_list():\n",
    "  vn.train(ddl=ddl)"
   ]
  },
  {
   "cell_type": "code",
   "execution_count": null,
   "id": "8b6e9128-7bfb-46b0-a02e-1043d868e2f2",
   "metadata": {},
   "outputs": [],
   "source": [
    "# # The following are methods for adding training data. Make sure you modify the examples to match your database.\n",
    "\n",
    "# # DDL statements are powerful because they specify table names, colume names, types, and potentially relationships\n",
    "# vn.train(ddl=\"\"\"\n",
    "#     CREATE TABLE IF NOT EXISTS my-table (\n",
    "#         id INT PRIMARY KEY,\n",
    "#         name VARCHAR(100),\n",
    "#         age INT\n",
    "#     )\n",
    "# \"\"\")\n",
    "\n",
    "# # Sometimes you may want to add documentation about your business terminology or definitions.\n",
    "vn.train(documentation=\"Our business provides insight into disease incidence and prevelance.\")\n",
    "\n",
    "# # You can also add SQL queries to your training data. This is useful if you have some queries already laying around. You can just copy and paste those from your editor to begin generating new SQL.\n",
    "vn.train(sql=\"SELECT icd_10_description, COUNT(*) as number_of_patients FROM patients GROUP BY icd_10_description\")"
   ]
  },
  {
   "cell_type": "code",
   "execution_count": 22,
   "id": "5338deca-dfa8-4318-9724-c3a74bac4064",
   "metadata": {},
   "outputs": [
    {
     "data": {
      "text/html": [
       "<div>\n",
       "<style scoped>\n",
       "    .dataframe tbody tr th:only-of-type {\n",
       "        vertical-align: middle;\n",
       "    }\n",
       "\n",
       "    .dataframe tbody tr th {\n",
       "        vertical-align: top;\n",
       "    }\n",
       "\n",
       "    .dataframe thead th {\n",
       "        text-align: right;\n",
       "    }\n",
       "</style>\n",
       "<table border=\"1\" class=\"dataframe\">\n",
       "  <thead>\n",
       "    <tr style=\"text-align: right;\">\n",
       "      <th></th>\n",
       "      <th>id</th>\n",
       "      <th>training_data_type</th>\n",
       "      <th>question</th>\n",
       "      <th>content</th>\n",
       "    </tr>\n",
       "  </thead>\n",
       "  <tbody>\n",
       "    <tr>\n",
       "      <th>0</th>\n",
       "      <td>457448-ddl</td>\n",
       "      <td>ddl</td>\n",
       "      <td>None</td>\n",
       "      <td>CREATE TABLE \"patients\" (\\n\"patient_id\" TEXT,\\...</td>\n",
       "    </tr>\n",
       "    <tr>\n",
       "      <th>1</th>\n",
       "      <td>2819555-doc</td>\n",
       "      <td>documentation</td>\n",
       "      <td>None</td>\n",
       "      <td>Our business provides insight into disease inc...</td>\n",
       "    </tr>\n",
       "    <tr>\n",
       "      <th>2</th>\n",
       "      <td>866745-sql</td>\n",
       "      <td>sql</td>\n",
       "      <td>What icd 10 description has the largest number...</td>\n",
       "      <td>SELECT icd_10_description, COUNT(*) as number_...</td>\n",
       "    </tr>\n",
       "    <tr>\n",
       "      <th>3</th>\n",
       "      <td>866744-sql</td>\n",
       "      <td>sql</td>\n",
       "      <td>What are the number of patients for each uniqu...</td>\n",
       "      <td>SELECT icd_10_description, COUNT(*) as number_...</td>\n",
       "    </tr>\n",
       "    <tr>\n",
       "      <th>4</th>\n",
       "      <td>463433-ddl</td>\n",
       "      <td>ddl</td>\n",
       "      <td>None</td>\n",
       "      <td>CREATE TABLE \"patients\" (\\n\"patient_id\" TEXT,\\...</td>\n",
       "    </tr>\n",
       "    <tr>\n",
       "      <th>5</th>\n",
       "      <td>463450-ddl</td>\n",
       "      <td>ddl</td>\n",
       "      <td>None</td>\n",
       "      <td>CREATE TABLE \"patients\" (\\n\"patient_id\" TEXT,\\...</td>\n",
       "    </tr>\n",
       "  </tbody>\n",
       "</table>\n",
       "</div>"
      ],
      "text/plain": [
       "            id training_data_type  \\\n",
       "0   457448-ddl                ddl   \n",
       "1  2819555-doc      documentation   \n",
       "2   866745-sql                sql   \n",
       "3   866744-sql                sql   \n",
       "4   463433-ddl                ddl   \n",
       "5   463450-ddl                ddl   \n",
       "\n",
       "                                            question  \\\n",
       "0                                               None   \n",
       "1                                               None   \n",
       "2  What icd 10 description has the largest number...   \n",
       "3  What are the number of patients for each uniqu...   \n",
       "4                                               None   \n",
       "5                                               None   \n",
       "\n",
       "                                             content  \n",
       "0  CREATE TABLE \"patients\" (\\n\"patient_id\" TEXT,\\...  \n",
       "1  Our business provides insight into disease inc...  \n",
       "2  SELECT icd_10_description, COUNT(*) as number_...  \n",
       "3  SELECT icd_10_description, COUNT(*) as number_...  \n",
       "4  CREATE TABLE \"patients\" (\\n\"patient_id\" TEXT,\\...  \n",
       "5  CREATE TABLE \"patients\" (\\n\"patient_id\" TEXT,\\...  "
      ]
     },
     "execution_count": 22,
     "metadata": {},
     "output_type": "execute_result"
    }
   ],
   "source": [
    "# At any time you can inspect what training data the package is able to reference\n",
    "training_data = vn.get_training_data()\n",
    "training_data"
   ]
  },
  {
   "cell_type": "code",
   "execution_count": null,
   "id": "83245aa8-a559-4f23-b62d-72194aafcc5f",
   "metadata": {},
   "outputs": [],
   "source": [
    "# # You can remove training data if there's obsolete/incorrect information. \n",
    "#vn.remove_training_data(id='459809-ddl')\n",
    "#457448\n",
    "\n",
    "# ```## Asking the AI\n",
    "# Whenever you ask a new question, it will find the 10 most relevant pieces of training data and use it as part of the LLM prompt to generate the SQL.\n",
    "# ```python\n",
    "# vn.ask(question=...)"
   ]
  },
  {
   "cell_type": "code",
   "execution_count": null,
   "id": "fa6fe853-fba0-48d6-85b0-b7f5a17e5404",
   "metadata": {},
   "outputs": [
    {
     "name": "stdout",
     "output_type": "stream",
     "text": [
      "Your app is running at:\n",
      "http://localhost:8084\n",
      " * Serving Flask app 'vanna.flask'\n",
      " * Debug mode: on\n",
      "None\n",
      "None\n",
      "None\n",
      "None\n",
      "None\n"
     ]
    }
   ],
   "source": [
    "from vanna.flask import VannaFlaskApp\n",
    "app = VannaFlaskApp(vn)\n",
    "app.run()"
   ]
  },
  {
   "cell_type": "markdown",
   "id": "06815f1d-b673-4728-8a0d-48e10869b8c7",
   "metadata": {},
   "source": [
    "# Use Vanna (Postgres)"
   ]
  },
  {
   "cell_type": "code",
   "execution_count": 20,
   "id": "64bf46d9-6bc0-4962-89f2-9dd53afc215e",
   "metadata": {},
   "outputs": [],
   "source": [
    "import vanna\n",
    "from vanna.remote import VannaDefault\n",
    "import os\n",
    "vanna_api_key = os.getenv('Vanna_API_Key')\n",
    "#api_key = # Your API key from https://vanna.ai/account/profile \n",
    "#vanna_model_name = # Your model name from https://vanna.ai/account/profile \n",
    "#vn.create_model (model = \"titanic_model_demo\", db_type = \"Postgres\")\n",
    "vanna_model_name = 'demo_titanic1'\n",
    "vn = VannaDefault(model=vanna_model_name, api_key=vanna_api_key)\n"
   ]
  },
  {
   "cell_type": "code",
   "execution_count": 21,
   "id": "4317f21a-8e2c-4170-9f4d-a6280ce580f3",
   "metadata": {},
   "outputs": [],
   "source": [
    "vn.connect_to_postgres(host='localhost', dbname='example_data_db', user='postgres', password='pgpw', port='5432')"
   ]
  },
  {
   "cell_type": "code",
   "execution_count": 22,
   "id": "4d74cf2d-ac36-400f-9ffb-9bc6226164c7",
   "metadata": {},
   "outputs": [],
   "source": [
    "# The information schema query may need some tweaking depending on your database. This is a good starting point.\n",
    "df_information_schema = vn.run_sql(\"SELECT * FROM INFORMATION_SCHEMA.COLUMNS\")\n",
    "\n",
    "# This will break up the information schema into bite-sized chunks that can be referenced by the LLM\n",
    "plan = vn.get_training_plan_generic(df_information_schema)\n",
    "plan\n",
    "\n",
    "# If you like the plan, then uncomment this and run it to train\n",
    "vn.train(plan=plan)"
   ]
  },
  {
   "cell_type": "code",
   "execution_count": null,
   "id": "90ee7fd5-0315-4b48-8e97-99b811bb8256",
   "metadata": {},
   "outputs": [],
   "source": [
    "# # The following are methods for adding training data. Make sure you modify the examples to match your database.\n",
    "\n",
    "# # DDL statements are powerful because they specify table names, colume names, types, and potentially relationships\n",
    "# vn.train(ddl=\"\"\"\n",
    "#     CREATE TABLE IF NOT EXISTS dt_titanic (\n",
    "#     passengerid text COLLATE pg_catalog.\"default\",\n",
    "#     survived text COLLATE pg_catalog.\"default\",\n",
    "#     pclass text COLLATE pg_catalog.\"default\",\n",
    "#     name text COLLATE pg_catalog.\"default\",\n",
    "#     sex text COLLATE pg_catalog.\"default\",\n",
    "#     age text COLLATE pg_catalog.\"default\",\n",
    "#     sibsp text COLLATE pg_catalog.\"default\",\n",
    "#     parch text COLLATE pg_catalog.\"default\",\n",
    "#     ticket text COLLATE pg_catalog.\"default\",\n",
    "#     fare text COLLATE pg_catalog.\"default\",\n",
    "#     cabin text COLLATE pg_catalog.\"default\",\n",
    "#     embarked text COLLATE pg_catalog.\"default\"\n",
    "\n",
    "#     )\n",
    "# \"\"\")\n",
    "\n",
    "# # Sometimes you may want to add documentation about your business terminology or definitions.\n",
    "# vn.train(documentation=\"Our business is in the business of learning\")\n",
    "\n",
    "# # You can also add SQL queries to your training data. This is useful if you have some queries already laying around. You can just copy and paste those from your editor to begin generating new SQL.\n",
    "# #vn.train(sql=\"SELECT * FROM my-table WHERE name = 'John Doe'\")"
   ]
  },
  {
   "cell_type": "code",
   "execution_count": 24,
   "id": "d1af675e-531a-47db-84ee-ddc45f8c4391",
   "metadata": {},
   "outputs": [
    {
     "data": {
      "text/html": [
       "<div>\n",
       "<style scoped>\n",
       "    .dataframe tbody tr th:only-of-type {\n",
       "        vertical-align: middle;\n",
       "    }\n",
       "\n",
       "    .dataframe tbody tr th {\n",
       "        vertical-align: top;\n",
       "    }\n",
       "\n",
       "    .dataframe thead th {\n",
       "        text-align: right;\n",
       "    }\n",
       "</style>\n",
       "<table border=\"1\" class=\"dataframe\">\n",
       "  <thead>\n",
       "    <tr style=\"text-align: right;\">\n",
       "      <th></th>\n",
       "      <th>id</th>\n",
       "      <th>training_data_type</th>\n",
       "      <th>question</th>\n",
       "      <th>content</th>\n",
       "    </tr>\n",
       "  </thead>\n",
       "  <tbody>\n",
       "    <tr>\n",
       "      <th>0</th>\n",
       "      <td>2842203-doc</td>\n",
       "      <td>documentation</td>\n",
       "      <td>NaN</td>\n",
       "      <td>The following columns are in the collation_cha...</td>\n",
       "    </tr>\n",
       "    <tr>\n",
       "      <th>1</th>\n",
       "      <td>2842062-doc</td>\n",
       "      <td>documentation</td>\n",
       "      <td>NaN</td>\n",
       "      <td>The following columns are in the pg_authid tab...</td>\n",
       "    </tr>\n",
       "    <tr>\n",
       "      <th>2</th>\n",
       "      <td>2842094-doc</td>\n",
       "      <td>documentation</td>\n",
       "      <td>NaN</td>\n",
       "      <td>The following columns are in the pg_tables tab...</td>\n",
       "    </tr>\n",
       "    <tr>\n",
       "      <th>3</th>\n",
       "      <td>2842061-doc</td>\n",
       "      <td>documentation</td>\n",
       "      <td>NaN</td>\n",
       "      <td>The following columns are in the pg_tablespace...</td>\n",
       "    </tr>\n",
       "    <tr>\n",
       "      <th>4</th>\n",
       "      <td>2842059-doc</td>\n",
       "      <td>documentation</td>\n",
       "      <td>NaN</td>\n",
       "      <td>The following columns are in the pg_database t...</td>\n",
       "    </tr>\n",
       "  </tbody>\n",
       "</table>\n",
       "</div>"
      ],
      "text/plain": [
       "            id training_data_type  question  \\\n",
       "0  2842203-doc      documentation       NaN   \n",
       "1  2842062-doc      documentation       NaN   \n",
       "2  2842094-doc      documentation       NaN   \n",
       "3  2842061-doc      documentation       NaN   \n",
       "4  2842059-doc      documentation       NaN   \n",
       "\n",
       "                                             content  \n",
       "0  The following columns are in the collation_cha...  \n",
       "1  The following columns are in the pg_authid tab...  \n",
       "2  The following columns are in the pg_tables tab...  \n",
       "3  The following columns are in the pg_tablespace...  \n",
       "4  The following columns are in the pg_database t...  "
      ]
     },
     "execution_count": 24,
     "metadata": {},
     "output_type": "execute_result"
    }
   ],
   "source": [
    "# At any time you can inspect what training data the package is able to reference\n",
    "training_data = vn.get_training_data()\n",
    "training_data"
   ]
  },
  {
   "cell_type": "code",
   "execution_count": null,
   "id": "4a99771c-5bb6-416f-9dd8-d0c9b8f1f52f",
   "metadata": {},
   "outputs": [],
   "source": [
    "# You can remove training data if there's obsolete/incorrect information. \n",
    "vn.remove_training_data(id='1-ddl')\n",
    "\n",
    "```## Asking the AI\n",
    "Whenever you ask a new question, it will find the 10 most relevant pieces of training data and use it as part of the LLM prompt to generate the SQL.\n",
    "```python\n",
    "vn.ask(question=...)"
   ]
  },
  {
   "cell_type": "code",
   "execution_count": null,
   "id": "5a636127-94e8-4bf1-b44b-6da1b1939fc8",
   "metadata": {},
   "outputs": [],
   "source": [
    "# most_recent_sql = vn.generate_sql(most_recent_question, allow_llm_to_see_data=True)"
   ]
  },
  {
   "cell_type": "code",
   "execution_count": null,
   "id": "16227286-5f56-47a1-8ef4-c133b4b4316c",
   "metadata": {},
   "outputs": [
    {
     "name": "stdout",
     "output_type": "stream",
     "text": [
      "Your app is running at:\n",
      "http://localhost:8084\n",
      " * Serving Flask app 'vanna.flask'\n",
      " * Debug mode: on\n",
      "None\n",
      "None\n",
      "None\n",
      "None\n",
      "None\n",
      "None\n",
      "None\n",
      "None\n",
      "None\n",
      "None\n"
     ]
    }
   ],
   "source": [
    "from vanna.flask import VannaFlaskApp\n",
    "app = VannaFlaskApp(vn)\n",
    "app.run()"
   ]
  },
  {
   "cell_type": "code",
   "execution_count": null,
   "id": "db496fa0-cf96-4968-952c-e9b98eba5fbd",
   "metadata": {},
   "outputs": [],
   "source": [
    "# #https://github.com/vanna-ai/vanna-streamlit-simple/tree/main\n",
    "\n",
    "# # Import python packages\n",
    "# import streamlit as st\n",
    "\n",
    "# # ======= BEGIN VANNA SETUP =======\n",
    "\n",
    "# from vanna.remote import VannaDefault\n",
    "\n",
    "# vanna_model_name=st.secrets.vanna.vanna_model_name\n",
    "# vanna_api_key = st.secrets.vanna.vanna_api_key\n",
    "# vn = VannaDefault(model=vanna_model_name, api_key=vanna_api_key)\n",
    "\n",
    "# # vn.connect_to...(YOUR_DATABASE_CREDENTIALS)\n",
    "# # example using suprabase\n",
    "# supra_host=st.secrets.supra.supra_host\n",
    "# supra_user=st.secrets.supra.supra_user\n",
    "# supra_password=st.secrets.supra.supra_password\n",
    "\n",
    "# vn.connect_to_postgres(host=supra_host, dbname='postgres', user=supra_user, password=supra_password, port=5432)\n",
    "\n",
    "# # ======= END VANNA SETUP =======\n",
    "\n",
    "# my_question = st.session_state.get(\"my_question\", default=None)\n",
    "\n",
    "# if my_question is None:\n",
    "#     my_question = st.text_input(\n",
    "#         \"Ask me a question about your data\",\n",
    "#         key=\"my_question\",\n",
    "#     )\n",
    "# else:\n",
    "#     st.text(my_question)\n",
    "    \n",
    "#     sql = vn.generate_sql(my_question)\n",
    "\n",
    "#     st.text(sql)\n",
    "\n",
    "#     df = vn.run_sql(sql)    \n",
    "        \n",
    "#     st.dataframe(df, use_container_width=True)\n",
    "\n",
    "#     code = vn.generate_plotly_code(question=my_question, sql=sql, df=df)\n",
    "\n",
    "#     fig = vn.get_plotly_figure(plotly_code=code, df=df)\n",
    "\n",
    "#     st.plotly_chart(fig, use_container_width=True)"
   ]
  }
 ],
 "metadata": {
  "kernelspec": {
   "display_name": "Python 3 (ipykernel)",
   "language": "python",
   "name": "python3"
  },
  "language_info": {
   "codemirror_mode": {
    "name": "ipython",
    "version": 3
   },
   "file_extension": ".py",
   "mimetype": "text/x-python",
   "name": "python",
   "nbconvert_exporter": "python",
   "pygments_lexer": "ipython3",
   "version": "3.12.7"
  }
 },
 "nbformat": 4,
 "nbformat_minor": 5
}
